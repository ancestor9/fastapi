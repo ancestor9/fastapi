{
 "cells": [
  {
   "cell_type": "markdown",
   "metadata": {},
   "source": [
    "### Path Parameters"
   ]
  },
  {
   "cell_type": "code",
   "execution_count": 2,
   "metadata": {},
   "outputs": [],
   "source": [
    "from enum import Enum"
   ]
  },
  {
   "cell_type": "code",
   "execution_count": 3,
   "metadata": {},
   "outputs": [],
   "source": [
    "class FoodEnum(str, Enum):\n",
    "    fruits = \"fruits\"\n",
    "    vegetables = \"vegetables\"\n",
    "    dairy = \"dairy\""
   ]
  },
  {
   "cell_type": "code",
   "execution_count": 4,
   "metadata": {},
   "outputs": [
    {
     "data": {
      "text/plain": [
       "<FoodEnum.fruits: 'fruits'>"
      ]
     },
     "execution_count": 4,
     "metadata": {},
     "output_type": "execute_result"
    }
   ],
   "source": [
    "FoodEnum.fruits"
   ]
  },
  {
   "cell_type": "code",
   "execution_count": 5,
   "metadata": {},
   "outputs": [
    {
     "data": {
      "text/plain": [
       "<enum 'FoodEnum'>"
      ]
     },
     "execution_count": 5,
     "metadata": {},
     "output_type": "execute_result"
    }
   ],
   "source": [
    "food_name = FoodEnum\n",
    "food_name"
   ]
  },
  {
   "cell_type": "code",
   "execution_count": 6,
   "metadata": {},
   "outputs": [],
   "source": [
    "def get_food(food_name: FoodEnum):\n",
    "    if food_name == FoodEnum.vegetables:\n",
    "        return {\"food_name\": food_name, \"message\": \"you are healthy\"}\n",
    "\n",
    "    if food_name.value == \"fruits\":\n",
    "        return {\n",
    "            \"food_name\": food_name,\n",
    "            \"message\": \"you are still healthy, but like sweet things\",\n",
    "        }\n",
    "    return {\"food_name\": food_name, \"message\": \"i like chocolate milk\"}"
   ]
  },
  {
   "cell_type": "code",
   "execution_count": 7,
   "metadata": {},
   "outputs": [
    {
     "data": {
      "text/plain": [
       "{'food_name': <FoodEnum.fruits: 'fruits'>,\n",
       " 'message': 'you are still healthy, but like sweet things'}"
      ]
     },
     "execution_count": 7,
     "metadata": {},
     "output_type": "execute_result"
    }
   ],
   "source": [
    "get_food(FoodEnum.fruits)"
   ]
  },
  {
   "cell_type": "code",
   "execution_count": null,
   "metadata": {},
   "outputs": [],
   "source": [
    "get_food(food_name = FoodEnum.fruits)"
   ]
  },
  {
   "cell_type": "code",
   "execution_count": 12,
   "metadata": {},
   "outputs": [
    {
     "name": "stdout",
     "output_type": "stream",
     "text": [
      "FoodEnum.fruits\n",
      "{'food_name': <FoodEnum.fruits: 'fruits'>, 'message': 'you are still healthy, but like sweet things'}\n",
      "FoodEnum.vegetables\n",
      "{'food_name': <FoodEnum.vegetables: 'vegetables'>, 'message': 'you are healthy'}\n",
      "FoodEnum.dairy\n",
      "{'food_name': <FoodEnum.dairy: 'dairy'>, 'message': 'i like chocolate milk'}\n"
     ]
    }
   ],
   "source": [
    "for i in FoodEnum:\n",
    "    print(i)\n",
    "    print(get_food(food_name = i))"
   ]
  },
  {
   "cell_type": "markdown",
   "metadata": {},
   "source": [
    "### Response Model with DB"
   ]
  },
  {
   "cell_type": "code",
   "execution_count": 14,
   "metadata": {},
   "outputs": [],
   "source": [
    "from pydantic import BaseModel"
   ]
  },
  {
   "cell_type": "code",
   "execution_count": 15,
   "metadata": {},
   "outputs": [],
   "source": [
    "class Item(BaseModel):\n",
    "    name: str\n",
    "    description: str | None = None\n",
    "    price: float\n",
    "    tax: float | None = None"
   ]
  },
  {
   "cell_type": "code",
   "execution_count": 19,
   "metadata": {},
   "outputs": [
    {
     "data": {
      "text/plain": [
       "{'name': 'test', 'description': None, 'price': 10.5, 'tax': None}"
      ]
     },
     "execution_count": 19,
     "metadata": {},
     "output_type": "execute_result"
    }
   ],
   "source": [
    "item= Item(name=\"test\", price=10.5)\n",
    "# item.dict()\n",
    "item_dict = item.model_dump()\n",
    "item_dict"
   ]
  },
  {
   "cell_type": "code",
   "execution_count": 20,
   "metadata": {},
   "outputs": [
    {
     "data": {
      "text/plain": [
       "dict_keys(['name', 'description', 'price', 'tax'])"
      ]
     },
     "execution_count": 20,
     "metadata": {},
     "output_type": "execute_result"
    }
   ],
   "source": [
    "item_dict.keys()"
   ]
  },
  {
   "cell_type": "code",
   "execution_count": 22,
   "metadata": {},
   "outputs": [
    {
     "data": {
      "text/plain": [
       "{1: {'name': 'test', 'description': None, 'price': 10.5, 'tax': None}}"
      ]
     },
     "execution_count": 22,
     "metadata": {},
     "output_type": "execute_result"
    }
   ],
   "source": [
    "fake_db = {}\n",
    "item_id = 1\n",
    "fake_db[item_id] = item_dict\n",
    "fake_db"
   ]
  },
  {
   "cell_type": "code",
   "execution_count": null,
   "metadata": {},
   "outputs": [],
   "source": []
  }
 ],
 "metadata": {
  "kernelspec": {
   "display_name": "env",
   "language": "python",
   "name": "python3"
  },
  "language_info": {
   "codemirror_mode": {
    "name": "ipython",
    "version": 3
   },
   "file_extension": ".py",
   "mimetype": "text/x-python",
   "name": "python",
   "nbconvert_exporter": "python",
   "pygments_lexer": "ipython3",
   "version": "3.12.3"
  }
 },
 "nbformat": 4,
 "nbformat_minor": 2
}
